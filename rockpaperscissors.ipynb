{
 "cells": [
  {
   "cell_type": "code",
   "execution_count": null,
   "id": "12d2595e-9399-4011-b2f9-db64b94f5436",
   "metadata": {},
   "outputs": [
    {
     "name": "stdin",
     "output_type": "stream",
     "text": [
      "Choose rock, paper, or scissors (or type 'exit' to quit):  rock\n"
     ]
    },
    {
     "name": "stdout",
     "output_type": "stream",
     "text": [
      "AI chose: rock\n",
      "It's a tie!\n"
     ]
    },
    {
     "name": "stdin",
     "output_type": "stream",
     "text": [
      "Choose rock, paper, or scissors (or type 'exit' to quit):  scissors\n"
     ]
    },
    {
     "name": "stdout",
     "output_type": "stream",
     "text": [
      "AI chose: rock\n",
      "AI wins!\n"
     ]
    },
    {
     "name": "stdin",
     "output_type": "stream",
     "text": [
      "Choose rock, paper, or scissors (or type 'exit' to quit):  shut up\n"
     ]
    },
    {
     "name": "stdout",
     "output_type": "stream",
     "text": [
      "Invalid choice. Try again.\n"
     ]
    }
   ],
   "source": [
    "import random\n",
    "\n",
    "# Defines choices\n",
    "choices = [\"rock\", \"paper\", \"scissors\"]\n",
    "\n",
    "# Function that determines winner\n",
    "def determine_winner(player_choice, ai_choice):\n",
    "    if player_choice == ai_choice:\n",
    "        return \"It's a tie!\"\n",
    "    elif (player_choice == \"rock\" and ai_choice == \"scissors\") or \\\n",
    "         (player_choice == \"paper\" and ai_choice == \"rock\") or \\\n",
    "         (player_choice == \"scissors\" and ai_choice == \"paper\"):\n",
    "        return \"You win!\"\n",
    "    else:\n",
    "        return \"AI wins!\"\n",
    "\n",
    "# Main game's loop\n",
    "while True:\n",
    "    player_choice = input(\"Choose rock, paper, or scissors (or type 'exit' to quit): \").lower()\n",
    "    if player_choice == \"exit\":\n",
    "        break\n",
    "    if player_choice not in choices:\n",
    "        print(\"Invalid choice. Try again.\")\n",
    "        continue\n",
    "\n",
    "    ai_choice = random.choice(choices)\n",
    "    print(f\"AI chose: {ai_choice}\")\n",
    "    \n",
    "    result = determine_winner(player_choice, ai_choice)\n",
    "    print(result)\n"
   ]
  },
  {
   "cell_type": "code",
   "execution_count": null,
   "id": "6dfe462d-b843-4259-ae21-f0b258bc3b8e",
   "metadata": {},
   "outputs": [],
   "source": []
  }
 ],
 "metadata": {
  "kernelspec": {
   "display_name": "Python [conda env:base] *",
   "language": "python",
   "name": "conda-base-py"
  },
  "language_info": {
   "codemirror_mode": {
    "name": "ipython",
    "version": 3
   },
   "file_extension": ".py",
   "mimetype": "text/x-python",
   "name": "python",
   "nbconvert_exporter": "python",
   "pygments_lexer": "ipython3",
   "version": "3.12.7"
  }
 },
 "nbformat": 4,
 "nbformat_minor": 5
}
